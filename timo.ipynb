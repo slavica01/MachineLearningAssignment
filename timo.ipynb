{
 "cells": [
  {
   "cell_type": "code",
   "execution_count": null,
   "metadata": {},
   "outputs": [],
   "source": [
    "class CNN(nn.Module):\n",
    "    def __init__(self, in_channel=3, num_classes=200):\n",
    "        super(CNN, self).__init__()\n",
    "        \"\"\"\n",
    "        Raj, S., Garyali, S., Kumar, S., & Shidnal, S. (2020). Image based bird species identification using convolutional neural network. International Journal of Engineering Research & Technology (IJERT), 9(6), 346.\n",
    "        \"\"\"\n",
    "        self.conv1 = nn.Conv2d(in_channel, out_channels=32, kernel_size=(3, 3), padding=1)\n",
    "        self.pool1 = nn.MaxPool2d(kernel_size=(3, 3))\n",
    "        self.conv2 = nn.Conv2d(in_channels=32, out_channels=64, kernel_size=(3, 3), padding=1)\n",
    "        self.pool2 = nn.MaxPool2d(kernel_size=(2, 2), stride=2)\n",
    "        self.conv3 = nn.Conv2d(in_channels=64, out_channels=124, kernel_size=(3, 3), padding=1)\n",
    "        self.fc1 = nn.Linear(124 * 8 * 8, 1024) \n",
    "        self.fc2 = nn.Linear(1024, num_classes)\n",
    "        self.dropout1 = nn.Dropout(0.25)\n",
    "        self.dropout2 = nn.Dropout(0.50)\n",
    "\n",
    "    def forward(self, x):\n",
    "        x = self.conv1(x)\n",
    "        x = F.relu(x)\n",
    "        x = self.pool1(x)\n",
    "        x = self.conv2(x)\n",
    "        x = F.relu(x)\n",
    "        x = self.pool2(x)\n",
    "        x = self.conv3(x)\n",
    "        x = F.relu(x)\n",
    "        x = self.pool2(x)\n",
    "        x = self.dropout1(x)\n",
    "        x = x.view(x.size(0), -1)\n",
    "        x = self.fc1(x)\n",
    "        x = F.relu(x)\n",
    "        x = self.dropout2(x)\n",
    "        x = self.fc2(x)\n",
    "        \n",
    "        return x "
   ]
  },
  {
   "cell_type": "code",
   "execution_count": null,
   "metadata": {},
   "outputs": [],
   "source": [
    "my_transforms = transforms.Compose([\n",
    "    transforms.Lambda(lambda img: Image.fromarray(img) if isinstance(img, np.ndarray) else img),  \n",
    "    transforms.Lambda(lambda img: img.convert('RGB')),  \n",
    "    transforms.RandomApply([transforms.RandomHorizontalFlip()], p=0.2),\n",
    "    transforms.RandomApply([transforms.RandomRotation(10)], p=0.15),\n",
    "    transforms.RandomApply([transforms.ColorJitter(brightness=0.2, contrast=0.2, saturation=0.2, hue=0.2)], p=0.2),\n",
    "    transforms.RandomPerspective(distortion_scale=0.1, p=0.05),\n",
    "    transforms.RandomApply([transforms.RandomAffine(degrees=0, translate=(0.1, 0.1), scale=(0.9, 1.1), shear=5)], p=0.05),\n",
    "    transforms.RandomApply([transforms.Grayscale(num_output_channels=3)], p=0.05),\n",
    "    transforms.Resize((input_size, input_size)),\n",
    "    transforms.ToTensor(),\n",
    "    transforms.Normalize(mean=[0.5, 0.5, 0.5], std=[0.5, 0.5, 0.5])\n",
    "])"
   ]
  }
 ],
 "metadata": {
  "kernelspec": {
   "display_name": "Python 3",
   "language": "python",
   "name": "python3"
  },
  "language_info": {
   "name": "python",
   "version": "3.11.9"
  }
 },
 "nbformat": 4,
 "nbformat_minor": 2
}
